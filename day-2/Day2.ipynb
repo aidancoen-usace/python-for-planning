{
 "cells": [
  {
   "cell_type": "markdown",
   "metadata": {},
   "source": [
    "### Comment Syntax"
   ]
  },
  {
   "cell_type": "code",
   "execution_count": 1,
   "metadata": {
    "scrolled": true
   },
   "outputs": [
    {
     "name": "stdout",
     "output_type": "stream",
     "text": [
      "HelloWorld\n"
     ]
    }
   ],
   "source": [
    "# this is a comment, it will not be run\n",
    "# use this for documenting your code, aka explaining what it does\n",
    "\n",
    "# print a greeting\n",
    "print(\"HelloWorld\")"
   ]
  },
  {
   "cell_type": "code",
   "execution_count": 2,
   "metadata": {},
   "outputs": [
    {
     "name": "stdout",
     "output_type": "stream",
     "text": [
      "See how 'HelloWorld' did not print?\n"
     ]
    }
   ],
   "source": [
    "# comments can be used to 'comment out code' \n",
    "# print('HelloWorld')\n",
    "print(\"See how 'HelloWorld' did not print?\")"
   ]
  },
  {
   "cell_type": "code",
   "execution_count": 3,
   "metadata": {},
   "outputs": [
    {
     "name": "stdout",
     "output_type": "stream",
     "text": [
      "Inline comments also are good for documentation\n",
      "But don't use inline comments for obvious things\n"
     ]
    }
   ],
   "source": [
    "print(\"Inline comments also are good for documentation\")  # this is an inline comment\n",
    "print(\"But don't use inline comments for obvious things\")  # also have two spaces between end of code and '#'"
   ]
  },
  {
   "cell_type": "code",
   "execution_count": 4,
   "metadata": {},
   "outputs": [
    {
     "name": "stdout",
     "output_type": "stream",
     "text": [
      "Your code goes here\n"
     ]
    }
   ],
   "source": [
    "\"\"\"Descriptor of code here\n",
    "\n",
    "This is a doc string, start off a program with this\n",
    "Write some more details so anyone can tell what the goal of the code is\n",
    "I like to include authorship and dates\n",
    "\"\"\"\n",
    "\n",
    "# Your code will go here\n",
    "print('Your code goes here')"
   ]
  },
  {
   "cell_type": "code",
   "execution_count": 5,
   "metadata": {},
   "outputs": [],
   "source": [
    "def example_for_doc_strings(example):\n",
    "    \"\"\"Define what a method does\n",
    "\n",
    "    Don't worry about what a 'method' is for now\n",
    "    \"\"\"\n",
    "    return True"
   ]
  },
  {
   "cell_type": "markdown",
   "metadata": {},
   "source": [
    "## Data Types"
   ]
  },
  {
   "cell_type": "markdown",
   "metadata": {},
   "source": [
    "| Data Type | Abbreviation | Examples |\n",
    "| ----------- | -----------| ----------- |\n",
    "| Integer | int | 1, 4, 8, 9 |\n",
    "| Float | float | 1.345, 6.0, 4.38 |\n",
    "| String | str | 'a', 'aa', 'can have spaces, characters, and characters (#, $, 1)' |"
   ]
  },
  {
   "cell_type": "code",
   "execution_count": 6,
   "metadata": {},
   "outputs": [
    {
     "name": "stdout",
     "output_type": "stream",
     "text": [
      "Hello World\n",
      "Is the same thing as:\n"
     ]
    }
   ],
   "source": [
    "# Example of string concat w/o the f-string\n",
    "str1 = \"Hello\"\n",
    "str2 = \"World\"\n",
    "\n",
    "# Concatenation, taking two strings and combining them\n",
    "concatenated_str = str1 + \" \" + str2\n",
    "print(concatenated_str)\n",
    "print('Is the same thing as:')"
   ]
  },
  {
   "cell_type": "code",
   "execution_count": 7,
   "metadata": {},
   "outputs": [
    {
     "name": "stdout",
     "output_type": "stream",
     "text": [
      "String Operations:\n",
      "HEllo kevin: Hello + World = Hello World\n",
      "Hello_\n",
      "Repetition: Hello * 3 = Hello_Hello_Hello_\n",
      "Slicing: Hello[1:] = ello\n",
      "Length: len(Hello) = 5\n",
      "Upper case: Hello.upper() = HELLO\n",
      "Lower case: Hello.lower() = hello\n"
     ]
    }
   ],
   "source": [
    "# Demonstrating String Operations\n",
    "print(\"String Operations:\")\n",
    "# Creating a string variable\n",
    "str1 = \"Hello\"\n",
    "str2 = \"World\"\n",
    "\n",
    "# Concatenation, taking two strings and combining them\n",
    "concatenated_str = str1 + \" \" + str2\n",
    "print(f\"HEllo kevin: {str1} + {str2} = {concatenated_str}\")\n",
    "\n",
    "# Repetition\n",
    "repeat_str = str1 + \"_\"\n",
    "print(repeat_str)\n",
    "repeated_str = repeat_str * 3\n",
    "print(f\"Repetition: {str1} * 3 = {repeated_str}\")\n",
    "\n",
    "# Slicing\n",
    "sliced_str = str1[1:]\n",
    "print(f\"Slicing: {str1}[1:] = {sliced_str}\")\n",
    "\n",
    "# Length\n",
    "length_str = len(str1)\n",
    "print(f\"Length: len({str1}) = {length_str}\")\n",
    "\n",
    "# Case conversion\n",
    "upper_str = str1.upper()\n",
    "lower_str = str1.lower()\n",
    "print(f\"Upper case: {str1}.upper() = {upper_str}\")\n",
    "print(f\"Lower case: {str1}.lower() = {lower_str}\")\n"
   ]
  },
  {
   "cell_type": "code",
   "execution_count": 8,
   "metadata": {},
   "outputs": [],
   "source": [
    "# Quick Note on 'F-strings'\n",
    "# used when you want to evaluate an expression and return the result as a str\n",
    "\n"
   ]
  },
  {
   "cell_type": "code",
   "execution_count": 9,
   "metadata": {},
   "outputs": [
    {
     "name": "stdout",
     "output_type": "stream",
     "text": [
      "Float Operations:\n",
      "Addition: 12.34 + 56.78 = 69.12\n",
      "Subtraction: 12.34 - 56.78 = -44.44\n",
      "Multiplication: 12.34 * 56.78 = 700.6652\n",
      "Division: 12.34 / 56.78 = 0.2173300457907714\n",
      "Rounding: round(12.34, 1) = 12.3\n"
     ]
    }
   ],
   "source": [
    "# Demonstrating Float Operations\n",
    "print(\"Float Operations:\")\n",
    "# Initialize floats\n",
    "float1 = 12.34\n",
    "float2 = 56.78\n",
    "\n",
    "# Addition\n",
    "float_add = float1 + float2\n",
    "print(f\"Addition: {float1} + {float2} = {float_add}\")\n",
    "\n",
    "# Subtraction\n",
    "float_sub = float1 - float2\n",
    "print(f\"Subtraction: {float1} - {float2} = {float_sub}\")\n",
    "\n",
    "# Multiplication\n",
    "float_mul = float1 * float2\n",
    "print(f\"Multiplication: {float1} * {float2} = {float_mul}\")\n",
    "\n",
    "# Division\n",
    "float_div = float1 / float2\n",
    "print(f\"Division: {float1} / {float2} = {float_div}\")\n",
    "\n",
    "# Rounding\n",
    "float_round = round(float1, 1) # 1 is the number of decimals\n",
    "print(f\"Rounding: round({float1}, 1) = {float_round}\")"
   ]
  },
  {
   "cell_type": "code",
   "execution_count": 10,
   "metadata": {},
   "outputs": [
    {
     "name": "stdout",
     "output_type": "stream",
     "text": [
      "Integer Operations:\n",
      "Addition: 10 + 20 = 30\n",
      "Subtraction: 10 - 20 = -10\n",
      "Multiplication: 10 * 20 = 200\n",
      "Division: 20 // 10 = 2\n"
     ]
    }
   ],
   "source": [
    "# Demonstrating Integer Operations\n",
    "print(\"Integer Operations:\")\n",
    "# Initialize integers\n",
    "int1 = 10\n",
    "int2 = 20\n",
    "\n",
    "# Addition\n",
    "int_add = int1 + int2\n",
    "print(f\"Addition: {int1} + {int2} = {int_add}\")\n",
    "\n",
    "# Subtraction\n",
    "int_sub = int1 - int2\n",
    "print(f\"Subtraction: {int1} - {int2} = {int_sub}\")\n",
    "\n",
    "# Multiplication\n",
    "int_mul = int1 * int2\n",
    "print(f\"Multiplication: {int1} * {int2} = {int_mul}\")\n",
    "\n",
    "# Division (Integer Division)\n",
    "int_div = int2 // int1  # only one will make it a floating point number\n",
    "print(f\"Division: {int2} // {int1} = {int_div}\")\n",
    "\n",
    "# "
   ]
  }
 ],
 "metadata": {
  "kernelspec": {
   "display_name": "Python 3 (ipykernel)",
   "language": "python",
   "name": "python3"
  },
  "language_info": {
   "codemirror_mode": {
    "name": "ipython",
    "version": 3
   },
   "file_extension": ".py",
   "mimetype": "text/x-python",
   "name": "python",
   "nbconvert_exporter": "python",
   "pygments_lexer": "ipython3",
   "version": "3.9.16"
  }
 },
 "nbformat": 4,
 "nbformat_minor": 2
}
