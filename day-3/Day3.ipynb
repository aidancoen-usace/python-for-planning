{
 "cells": [
  {
   "cell_type": "markdown",
   "metadata": {},
   "source": [
    "## Lists\n",
    "* Collection of ordered items\n",
    "* Within brackets, items are seperated by commas\n",
    "* Lists will retain order\n",
    "* Lists are mutable, this means they can be changed"
   ]
  },
  {
   "cell_type": "code",
   "execution_count": 1,
   "metadata": {},
   "outputs": [
    {
     "name": "stdout",
     "output_type": "stream",
     "text": [
      "List of integers: [1, 2, 2, 3, 4]\n",
      "List of strings: ['John', 'Alice', 'Bob', 'Eva', 'Mike']\n"
     ]
    }
   ],
   "source": [
    "empty_list = []\n",
    "\n",
    "# list of integers\n",
    "int_list = [1, 2, 2, 3, 4]\n",
    "\n",
    "# list of strings\n",
    "people = [\"John\", \"Alice\", \"Bob\", \"Eva\", \"Mike\"]\n",
    "\n",
    "print(f\"List of integers: {int_list}\")\n",
    "print(f\"List of strings: {people}\")"
   ]
  },
  {
   "cell_type": "code",
   "execution_count": 2,
   "metadata": {},
   "outputs": [
    {
     "name": "stdout",
     "output_type": "stream",
     "text": [
      "[1, 200, 2, 2, 3, 4, 5]\n"
     ]
    }
   ],
   "source": [
    "# Append elements to list (item added to end)\n",
    "int_list.append(5)\n",
    "\n",
    "# Add an element to an index\n",
    "int_list.insert(1,200)\n",
    "\n",
    "# note how in both of these examples that the original list is changed\n",
    "print(int_list)"
   ]
  },
  {
   "cell_type": "code",
   "execution_count": 3,
   "metadata": {},
   "outputs": [
    {
     "name": "stdout",
     "output_type": "stream",
     "text": [
      "List before removing any values: [1, 200, 2, 2, 3, 4, 5]\n",
      "List after removinga any 3's: [1, 200, 2, 2, 4, 5]\n",
      "List after removing the element at index 0: [200, 2, 2, 4, 5]\n"
     ]
    }
   ],
   "source": [
    "print(f\"List before removing any values: {int_list}\")\n",
    "\n",
    "# remove an element by value\n",
    "int_list.remove(3)\n",
    "print(f\"List after removinga any 3's: {int_list}\")\n",
    "\n",
    "# delete an element by index\n",
    "del int_list[0]\n",
    "print(f\"List after removing the element at index 0: {int_list}\")\n",
    "\n"
   ]
  },
  {
   "cell_type": "code",
   "execution_count": 4,
   "metadata": {},
   "outputs": [
    {
     "name": "stdout",
     "output_type": "stream",
     "text": [
      "First element: 200\n",
      "First three elements: [200, 2, 2]\n"
     ]
    }
   ],
   "source": [
    "# Accessing by index\n",
    "first_element = int_list[0]  # 2\n",
    "print(f\"First element: {first_element}\")\n",
    "\n",
    "# Slicing lists\n",
    "first_three = int_list[:3]  # [2, 3, 4]\n",
    "print(f\"First three elements: {first_three}\")"
   ]
  },
  {
   "cell_type": "markdown",
   "metadata": {},
   "source": [
    "## Dictionaries\n",
    "- Used to store key-value pairs\n",
    "- Keys have to be unique, however each key can have multiple values\n",
    "- Think of an actual copy of Webster's\n",
    "- Within curly brackets, each dictionary element is composed of a key followed by a colon, and a value. Key-value pairs seperated by commas"
   ]
  },
  {
   "cell_type": "code",
   "execution_count": 5,
   "metadata": {},
   "outputs": [
    {
     "name": "stdout",
     "output_type": "stream",
     "text": [
      "Dictionary: {1: 'apple', 2: 'banana'}\n",
      "type(int_keys_dict) == <class 'dict'>\n",
      "\n",
      "\n",
      "{1, 2, 3, 3, 4} is actually a set: {1, 2, 3, 4}, <class 'set'>\n"
     ]
    }
   ],
   "source": [
    "empty_dict = {}\n",
    "\n",
    "# Dictionary with integer keys\n",
    "int_keys_dict = {1: 'apple', 2: 'banana'}\n",
    "print(f\"Dictionary: {int_keys_dict}\")\n",
    "print(f\"type(int_keys_dict) == {type(int_keys_dict)}\")\n",
    "print('\\n')\n",
    "\n",
    "# Careful! Witout colons, this will be a set (list w/o repeats or order, may cover later)\n",
    "actually_set = {1, 2, 3, 3, 4}\n",
    "print(\"{1, 2, 3, 3, 4} \" + f\"is actually a set: {actually_set}, {type(actually_set)}\")\n"
   ]
  },
  {
   "cell_type": "code",
   "execution_count": 6,
   "metadata": {},
   "outputs": [
    {
     "name": "stdout",
     "output_type": "stream",
     "text": [
      "Dictionary before adding 3: 'cherry' == {1: 'apple', 2: 'banana'} \n",
      "Dictionary after adding 3: 'cherry' == {1: 'apple', 2: 'banana', 3: 'cherry'}\n"
     ]
    }
   ],
   "source": [
    "# Adding a new key-value pair\n",
    "print(f\"Dictionary before adding 3: 'cherry' == {int_keys_dict} \")\n",
    "int_keys_dict[3] = 'cherry'\n",
    "\n",
    "print(f\"Dictionary after adding 3: 'cherry' == {int_keys_dict}\")"
   ]
  },
  {
   "cell_type": "code",
   "execution_count": 7,
   "metadata": {},
   "outputs": [
    {
     "name": "stdout",
     "output_type": "stream",
     "text": [
      "banana\n"
     ]
    }
   ],
   "source": [
    "# Accessing by key: \n",
    "fetched_val = int_keys_dict[2]\n",
    "print(fetched_val)"
   ]
  },
  {
   "cell_type": "code",
   "execution_count": 8,
   "metadata": {},
   "outputs": [
    {
     "name": "stdout",
     "output_type": "stream",
     "text": [
      "Keys list == [1, 2, 3]\n",
      "Values list == ['apple', 'banana', 'cherry']\n"
     ]
    }
   ],
   "source": [
    "# Getting a list of keys/values\n",
    "keys = list(int_keys_dict.keys())\n",
    "values = list(int_keys_dict.values())\n",
    "\n",
    "print(f\"Keys list == {keys}\")\n",
    "print(f\"Values list == {values}\")"
   ]
  },
  {
   "cell_type": "markdown",
   "metadata": {},
   "source": [
    "### Example of a List: Printing grammatically correct lists"
   ]
  },
  {
   "cell_type": "code",
   "execution_count": 9,
   "metadata": {},
   "outputs": [],
   "source": [
    "def grammatical_and_list(items):    \n",
    "    # Handle the case of an empty list\n",
    "    if not items:\n",
    "        print(\"The list is empty.\")\n",
    "        return \"\"\n",
    "\n",
    "    # Handle the case of a single-item list\n",
    "    if len(items) == 1:\n",
    "        corr_list = items[0]\n",
    "        \n",
    "        return corr_list\n",
    "\n",
    "    # Handle the case of a two-item list\n",
    "    if len(items) == 2:\n",
    "        corr_list = f\"{items[0]} and {items[1]}\"\n",
    "        return corr_list\n",
    "\n",
    "    # pop() removes and stores the item indexed\n",
    "    # join() and map() are a little bit more advanced, we can talk or see documentation\n",
    "    \n",
    "    # Handle the case of a list with more than two items\n",
    "    last_item = items.pop(-1)  # Remove and store the last item\n",
    "    corr_list = f\"{', '.join(map(str, items))}, and {last_item}\"\n",
    "\n",
    "    items.append(last_item)  # Put the last item back to keep the original list unchanged\n",
    "    return corr_list"
   ]
  },
  {
   "cell_type": "code",
   "execution_count": 10,
   "metadata": {},
   "outputs": [
    {
     "name": "stdout",
     "output_type": "stream",
     "text": [
      "John, Alice, Bob, Eva, and Mike\n",
      "200, 2, 2, 4, and 5\n"
     ]
    }
   ],
   "source": [
    "print(grammatical_and_list(people))\n",
    "print(grammatical_and_list(int_list))"
   ]
  },
  {
   "cell_type": "markdown",
   "metadata": {},
   "source": [
    "## Example 2: Generating Farmland Descriptions"
   ]
  },
  {
   "cell_type": "markdown",
   "metadata": {},
   "source": [
    "Note:In this scenario, we are going to pretend that we already have a way to get the 'sites_soil_cl' from ArcGIS Pro (we'll look at this in a future week)\n",
    "\n",
    "- Our goal is to generate a text description for each site with the map units a site is in, what farmland classifications, and if we need to fill out a Farmland Protection Policy Act Form\n",
    "- We will have a list comprised of a dictionary for each site"
   ]
  },
  {
   "cell_type": "code",
   "execution_count": 11,
   "metadata": {},
   "outputs": [],
   "source": [
    "# Each site has it's information in a dictionary. We then have a list of all the site's dictionaries.\n",
    "sites_soil_cl = [\n",
    "    {\n",
    "        \"site\": \"Site1\",\n",
    "        \"mukeys\": [1111, 2222, 3333],\n",
    "        \"farmland_class\": [\"Not Prime Farmland\", \"Not Prime Farmland\", \"Farmland of Statewide Importance\"],\n",
    "    },\n",
    "    {\n",
    "        \"site\": \"Site2\",\n",
    "        \"mukeys\": [4444, 5555, 6666],\n",
    "        \"farmland_class\": [\"Not Prime Farmland\", \"Prime Farmland\", \"Not Prime Farmland\"],\n",
    "    },\n",
    "    {\n",
    "        \"site\": \"SiTe3\",\n",
    "        \"mukeys\": [7777, 8888, 9999],\n",
    "        \"farmland_class\": [\"Not Prime Farmland\", \"Not Prime Farmland\", \"Not Prime Farmland\"],\n",
    "    },\n",
    "]\n"
   ]
  },
  {
   "cell_type": "code",
   "execution_count": 12,
   "metadata": {},
   "outputs": [],
   "source": [
    "def farmland_desc(site_dict:dict):\n",
    "    desc = f\"{site_dict['site'].title()} is located within the following map unit(s): {grammatical_and_list(site_dict['mukeys'])}.\"\n",
    "    desc += f\" These map units have the farmland classifcation(s): {grammatical_and_list(site_dict['farmland_class'])} respectively.\"\n",
    "    \n",
    "    if any(frmlndcl != \"Not Prime Farmland\" for frmlndcl in site_dict['farmland_class']):\n",
    "        desc += \" As there is farmland of signifigance within the project area, FPPA coordination should be conducted.\"\n",
    "    else:\n",
    "        desc += \" The project area is only within 'not prime farmland' and FPPA coordination is therefore not required.\"    \n",
    "    \n",
    "    return desc"
   ]
  },
  {
   "cell_type": "code",
   "execution_count": 13,
   "metadata": {},
   "outputs": [
    {
     "name": "stdout",
     "output_type": "stream",
     "text": [
      "Site1 is located within the following map unit(s): 1111, 2222, and 3333. These map units have the farmland classifcation(s): Not Prime Farmland, Not Prime Farmland, and Farmland of Statewide Importance respectively. As there is farmland of signifigance within the project area, FPPA coordination should be conducted.\n",
      "\n",
      "Site2 is located within the following map unit(s): 4444, 5555, and 6666. These map units have the farmland classifcation(s): Not Prime Farmland, Prime Farmland, and Not Prime Farmland respectively. As there is farmland of signifigance within the project area, FPPA coordination should be conducted.\n",
      "\n",
      "Site3 is located within the following map unit(s): 7777, 8888, and 9999. These map units have the farmland classifcation(s): Not Prime Farmland, Not Prime Farmland, and Not Prime Farmland respectively. The project area is only within 'not prime farmland' and FPPA coordination is therefore not required.\n",
      "\n"
     ]
    }
   ],
   "source": [
    "for site in sites_soil_cl:\n",
    "    desc = farmland_desc(site)\n",
    "    print(desc + \"\\n\")"
   ]
  }
 ],
 "metadata": {
  "kernelspec": {
   "display_name": "Python 3 (ipykernel)",
   "language": "python",
   "name": "python3"
  },
  "language_info": {
   "codemirror_mode": {
    "name": "ipython",
    "version": 3
   },
   "file_extension": ".py",
   "mimetype": "text/x-python",
   "name": "python",
   "nbconvert_exporter": "python",
   "pygments_lexer": "ipython3",
   "version": "3.9.16"
  }
 },
 "nbformat": 4,
 "nbformat_minor": 2
}
